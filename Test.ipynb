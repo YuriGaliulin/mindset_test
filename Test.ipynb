{
 "cells": [
  {
   "cell_type": "code",
   "execution_count": 1,
   "id": "8a97ef0c",
   "metadata": {},
   "outputs": [],
   "source": [
    "# pip install neo4j\n",
    "from neo4j import GraphDatabase"
   ]
  },
  {
   "cell_type": "code",
   "execution_count": 2,
   "id": "60b91748",
   "metadata": {},
   "outputs": [],
   "source": [
    "# нашёл этот способ на Хабре\n",
    "class Neo4jConnection:\n",
    "    def __init__(self, uri, user, password):\n",
    "        self.driver = GraphDatabase.driver(uri, auth=(user, password))\n",
    "\n",
    "    def close(self):\n",
    "        if self.driver is not None:\n",
    "            self.driver.close()\n",
    "\n",
    "# Метод, который передает запрос в БД\n",
    "    def query(self, query, db=None):\n",
    "        assert self.driver is not None, \"Driver not initialized!\"\n",
    "        session = None\n",
    "        response = None\n",
    "        try:\n",
    "            session = self.driver.session(database=db) if db is not None else self.driver.session()\n",
    "            response = list(session.run(query))\n",
    "        except Exception as e:\n",
    "            print(\"Query failed:\", e)\n",
    "        finally:\n",
    "            if session is not None:\n",
    "                session.close()\n",
    "        return response"
   ]
  },
  {
   "cell_type": "code",
   "execution_count": 3,
   "id": "bf6c78d6",
   "metadata": {},
   "outputs": [
    {
     "data": {
      "text/plain": [
       "[]"
      ]
     },
     "execution_count": 3,
     "metadata": {},
     "output_type": "execute_result"
    }
   ],
   "source": [
    "conn = Neo4jConnection(uri=\"bolt://localhost:7687\", user='test', password='password')\n",
    "conn.query('CREATE OR REPLACE DATABASE neo4j')"
   ]
  },
  {
   "cell_type": "code",
   "execution_count": 6,
   "id": "97771c27",
   "metadata": {},
   "outputs": [
    {
     "data": {
      "text/plain": [
       "[]"
      ]
     },
     "execution_count": 6,
     "metadata": {},
     "output_type": "execute_result"
    }
   ],
   "source": [
    "query_string = '''\n",
    "LOAD CSV WITH HEADERS FROM \n",
    "'file:///newone.csv'\n",
    "AS line FIELDTERMINATOR ';'\n",
    "MERGE (ev:event {eventID: toInteger(line.EventID)})\n",
    "MERGE (person1:personOne {name: line.NameOne})\n",
    "MERGE (person2:personTwo {name: line.NameTwo})\n",
    "ON CREATE SET \n",
    "ev.personOne = line.NameOne, ev.personTwo = line.NameTwo, \n",
    "person1.eventID = toInteger(line.EventID),  \n",
    "person2.eventID = toInteger(line.EventID);\n",
    "'''\n",
    "\n",
    "conn.query(query_string, db='neo4j')"
   ]
  },
  {
   "cell_type": "code",
   "execution_count": 7,
   "id": "96cace25",
   "metadata": {
    "scrolled": true
   },
   "outputs": [
    {
     "data": {
      "text/plain": [
       "[]"
      ]
     },
     "execution_count": 7,
     "metadata": {},
     "output_type": "execute_result"
    }
   ],
   "source": [
    "query_string = '''\n",
    "MATCH (e:event), (p1:personOne), (p2:personTwo)\n",
    "WHERE e.eventID = p1.eventID = p2.eventID\n",
    "CREATE (p1)-[:TOOK_PART]->(e)<-[:TOOK_PART]-(p2);\n",
    "'''\n",
    "conn.query(query_string, db='neo4j')"
   ]
  },
  {
   "cell_type": "code",
   "execution_count": 156,
   "id": "71c4747d",
   "metadata": {},
   "outputs": [
    {
     "data": {
      "text/plain": [
       "[]"
      ]
     },
     "execution_count": 156,
     "metadata": {},
     "output_type": "execute_result"
    }
   ],
   "source": [
    "# на случай обнуления всей базы\n",
    "query_string='''\n",
    "MATCH (n)\n",
    "DETACH DELETE n\n",
    "'''\n",
    "conn.query(query_string, db='test')"
   ]
  },
  {
   "cell_type": "code",
   "execution_count": 8,
   "id": "3388ff1f",
   "metadata": {},
   "outputs": [],
   "source": [
    "import pandas as pd"
   ]
  },
  {
   "cell_type": "code",
   "execution_count": 9,
   "id": "693974e5",
   "metadata": {},
   "outputs": [],
   "source": [
    "df = pd.read_csv('../User/newone.csv', sep=';')"
   ]
  },
  {
   "cell_type": "code",
   "execution_count": 10,
   "id": "1c13479a",
   "metadata": {},
   "outputs": [
    {
     "data": {
      "text/html": [
       "<div>\n",
       "<style scoped>\n",
       "    .dataframe tbody tr th:only-of-type {\n",
       "        vertical-align: middle;\n",
       "    }\n",
       "\n",
       "    .dataframe tbody tr th {\n",
       "        vertical-align: top;\n",
       "    }\n",
       "\n",
       "    .dataframe thead th {\n",
       "        text-align: right;\n",
       "    }\n",
       "</style>\n",
       "<table border=\"1\" class=\"dataframe\">\n",
       "  <thead>\n",
       "    <tr style=\"text-align: right;\">\n",
       "      <th></th>\n",
       "      <th>EventID</th>\n",
       "      <th>NameOne</th>\n",
       "      <th>NameTwo</th>\n",
       "    </tr>\n",
       "  </thead>\n",
       "  <tbody>\n",
       "    <tr>\n",
       "      <th>0</th>\n",
       "      <td>189</td>\n",
       "      <td>Галчевская Карина Владимировна</td>\n",
       "      <td>Белоновская Анастасия Семеновна</td>\n",
       "    </tr>\n",
       "    <tr>\n",
       "      <th>1</th>\n",
       "      <td>206</td>\n",
       "      <td>Офицеров Олег Романович</td>\n",
       "      <td>Сапожник Борис Валерьевич</td>\n",
       "    </tr>\n",
       "    <tr>\n",
       "      <th>2</th>\n",
       "      <td>445</td>\n",
       "      <td>Жандарова Лариса Германовна</td>\n",
       "      <td>Чемодуров Дамир Русланович</td>\n",
       "    </tr>\n",
       "    <tr>\n",
       "      <th>3</th>\n",
       "      <td>503</td>\n",
       "      <td>Масимова Яна Дамировна</td>\n",
       "      <td>Мингажетдинов Рамиль Семенович</td>\n",
       "    </tr>\n",
       "    <tr>\n",
       "      <th>4</th>\n",
       "      <td>571</td>\n",
       "      <td>Мухтарова Алена Яковлевна</td>\n",
       "      <td>Щербатенко Ольга Робертовна</td>\n",
       "    </tr>\n",
       "  </tbody>\n",
       "</table>\n",
       "</div>"
      ],
      "text/plain": [
       "   EventID                         NameOne                          NameTwo\n",
       "0      189  Галчевская Карина Владимировна  Белоновская Анастасия Семеновна\n",
       "1      206         Офицеров Олег Романович        Сапожник Борис Валерьевич\n",
       "2      445     Жандарова Лариса Германовна       Чемодуров Дамир Русланович\n",
       "3      503          Масимова Яна Дамировна   Мингажетдинов Рамиль Семенович\n",
       "4      571       Мухтарова Алена Яковлевна      Щербатенко Ольга Робертовна"
      ]
     },
     "execution_count": 10,
     "metadata": {},
     "output_type": "execute_result"
    }
   ],
   "source": [
    "df.head()"
   ]
  },
  {
   "cell_type": "code",
   "execution_count": 8,
   "id": "4f0e7f12",
   "metadata": {
    "scrolled": true
   },
   "outputs": [
    {
     "name": "stdout",
     "output_type": "stream",
     "text": [
      "Всего событий: 5000\n",
      "Всего уникальный событий: 4985\n"
     ]
    }
   ],
   "source": [
    "print('Всего событий:', len(df['EventID']))\n",
    "print('Всего уникальный событий:', len(df['EventID'].unique()))"
   ]
  },
  {
   "cell_type": "code",
   "execution_count": 9,
   "id": "d4fd23fa",
   "metadata": {},
   "outputs": [
    {
     "name": "stdout",
     "output_type": "stream",
     "text": [
      "Уникальных первых участников 4930\n",
      "Уникальных вторых участников 4994\n"
     ]
    }
   ],
   "source": [
    "print('Уникальных первых участников', len(df['NameOne'].unique()))\n",
    "print('Уникальных вторых участников', len(df['NameTwo'].unique()))"
   ]
  },
  {
   "cell_type": "code",
   "execution_count": 114,
   "id": "f69987a9",
   "metadata": {},
   "outputs": [
    {
     "name": "stdout",
     "output_type": "stream",
     "text": [
      "Участник №1: Ахромеева Алина Ивановна | Событий: 49\n",
      "Участник №1: Башнина Антонина Глебовна | Событий: 14\n",
      "Участник №1: Пафомова Кира Вадимовна | Событий: 2\n",
      "Участник №1: Зимнухова Карина Даниловна | Событий: 4\n",
      "Участник №1: Шолохов Игорь Робертович | Событий: 2\n",
      "Участник №1: Диомидов Игорь Ильдарович | Событий: 5\n"
     ]
    }
   ],
   "source": [
    "# Словарь содержит количество по каждому участнику 1\n",
    "took_parts_one = {}\n",
    "po = df['NameOne']\n",
    "for i in range(len(po)):\n",
    "    took_parts_one[po[i]] = took_parts_one.get(po[i], 0) + 1\n",
    "for key, value in took_parts_one.items():\n",
    "    if value > 1:\n",
    "        print('Участник №1:', key,'| Событий:', value)"
   ]
  },
  {
   "cell_type": "code",
   "execution_count": 22,
   "id": "715cb852",
   "metadata": {},
   "outputs": [
    {
     "data": {
      "text/plain": [
       "Index(['EventID', 'NameOne', 'NameTwo'], dtype='object')"
      ]
     },
     "execution_count": 22,
     "metadata": {},
     "output_type": "execute_result"
    }
   ],
   "source": [
    "df.keys()"
   ]
  },
  {
   "cell_type": "code",
   "execution_count": 23,
   "id": "6de28c30",
   "metadata": {},
   "outputs": [],
   "source": [
    "ahro_events = []\n",
    "index = 0\n",
    "for ev_id in (df['EventID']):\n",
    "    if df['NameOne'][index] == 'Ахромеева Алина Ивановна':\n",
    "        ahro_events.append((ev_id))\n",
    "    index += 1"
   ]
  },
  {
   "cell_type": "code",
   "execution_count": 41,
   "id": "d3c63ee8",
   "metadata": {},
   "outputs": [
    {
     "name": "stdout",
     "output_type": "stream",
     "text": [
      "Участник №2: Медведева Дарья Алексеевна | Событий: 5\n",
      "Участник №2: Двигубская Валентина Геннадьевна | Событий: 2\n",
      "Участник №2: Шолохов Игорь Робертович | Событий: 2\n"
     ]
    }
   ],
   "source": [
    "# Словарь содержит количество по каждому участнику 2\n",
    "took_parts_two = {}\n",
    "pt = df['NameTwo']\n",
    "for i in range(len(pt)):\n",
    "    took_parts_two[pt[i]] = took_parts_two.get(pt[i], 0) + 1\n",
    "for key, value in took_parts_two.items():\n",
    "    if value > 1:\n",
    "        print('Участник №2:', key,'| Событий:', value)"
   ]
  },
  {
   "cell_type": "code",
   "execution_count": 110,
   "id": "8a2d5927",
   "metadata": {},
   "outputs": [
    {
     "name": "stdout",
     "output_type": "stream",
     "text": [
      "Событие eventID 70049 | Всего 2\n",
      "Событие eventID 92995 | Всего 2\n",
      "Событие eventID 117280 | Всего 2\n",
      "Событие eventID 177407 | Всего 2\n",
      "Событие eventID 358194 | Всего 2\n",
      "Событие eventID 390312 | Всего 2\n",
      "Событие eventID 523688 | Всего 2\n",
      "Событие eventID 551592 | Всего 2\n",
      "Событие eventID 613539 | Всего 2\n",
      "Событие eventID 716489 | Всего 2\n",
      "Событие eventID 765223 | Всего 2\n",
      "Событие eventID 850472 | Всего 2\n",
      "Событие eventID 873359 | Всего 2\n",
      "Событие eventID 938764 | Всего 2\n",
      "Событие eventID 985851 | Всего 2\n"
     ]
    }
   ],
   "source": [
    "# Словарь содержит количество по каждому событию\n",
    "event_count = {}\n",
    "ev = df['EventID']\n",
    "for i in range(len(ev)):\n",
    "    event_count[ev[i]] = event_count.get(ev[i], 0) + 1\n",
    "for key, value in event_count.items():\n",
    "    if value > 1:\n",
    "        print('Событие eventID', key,'| Всего', value)"
   ]
  },
  {
   "cell_type": "code",
   "execution_count": 52,
   "id": "d49e8d02",
   "metadata": {},
   "outputs": [
    {
     "name": "stdout",
     "output_type": "stream",
     "text": [
      "Всего повторяющихся событий 15\n",
      "Это 0.3% от общего числа событий\n"
     ]
    }
   ],
   "source": [
    "# Всего повторяющихся событий\n",
    "total_events_twice_count = 0\n",
    "total_events_twice_dict = {}\n",
    "for key, value in event_count.items():\n",
    "    if value > 1:\n",
    "        total_events_twice_count += 1\n",
    "        if key in total_events_twice_dict:\n",
    "            total_events_twice_dict[key].append()\n",
    "        elif key not in total_events_twice_dict:\n",
    "            total_events_twice_dict[key] = total_events_twice_dict.get(key, [value])\n",
    "print(f'Всего повторяющихся событий {total_events_twice_count}')\n",
    "print(f'Это {total_events_twice/5000*100}% от общего числа событий')"
   ]
  },
  {
   "cell_type": "code",
   "execution_count": 87,
   "id": "f08ff730",
   "metadata": {},
   "outputs": [
    {
     "name": "stdout",
     "output_type": "stream",
     "text": [
      "id 70049 : Яшина Полина Евгеньевна         | Герасимовская Ксения Дамировна\n",
      "id 70049 : Федова Анжелика Вадимовна       | Вальдовский Альберт Ефимович\n",
      "id 92995 : Журик Альберт Евгеньевич        | Бадьянова Римма Максимовна\n",
      "id 92995 : Кучеренко Ирина Ильинична       | Болтик Григорий Максимович\n",
      "id 117280: Волынский Кирилл Федорович      | Гайсумов Виктор Тимурович\n",
      "id 117280: Уточкин Евгений Анатольевич     | Каганович Лилия Петровна\n",
      "id 177407: Зелинский Геннадий Артурович    | Зазорин Вадим Аркадьевич\n",
      "id 177407: Бужанинов Руслан Артурович      | Сороковой Герман Маратович\n",
      "id 358194: Ноева Галина Степановна         | Серпухова Алла Ярославовна\n",
      "id 358194: Долгих Лилия Вадимовна          | Брусенцова Дарья Михаиловна\n",
      "id 390312: Григорьевых Павел Леонидович    | Хилин Федор Федорович\n",
      "id 390312: Намазова Евгения Дмитриевна     | Охоцимская Виктория Евгеньевна\n",
      "id 523688: Бацких Егор Олегович            | Барилов Роман Филиппович\n",
      "id 523688: Ботяновская Антонина Даниловна  | Памфилова Тамара Даниловна\n",
      "id 551592: Захарьева Ирина Денисовна       | Солонченко Карина Васильевна\n",
      "id 551592: Выборнов Дмитрий Дмитриевич     | Нугуманов Ефим Андреевич\n",
      "id 613539: Гавриленко Глеб Марселевич      | Ганенко Эльмира Степановна\n",
      "id 613539: Сахнова Тамара Васильевна       | Кишенин Станислав Георгиевич\n",
      "id 716489: Пантелюхина Лариса Вячеславовна | Штин Максим Русланович\n",
      "id 716489: Адельханова Елена Петровна      | Арсенчук Руслан Денисович\n",
      "id 765223: Савлук Марсель Владимирович     | Атамкулова Мария Андреевна\n",
      "id 765223: Бабосов Михаил Константинович   | Гулева Марина Витальевна\n",
      "id 850472: Стрик Элина Марселевна          | Борчин Павел Робертович\n",
      "id 850472: Ахромеева Алина Ивановна        | Ларищев Илья Александрович\n",
      "id 873359: Якимихина Наталья Яновна        | Улиссов Марсель Эдуардович\n",
      "id 873359: Джанибеков Никита Юрьевич       | Старовойтов Вячеслав Павлович\n",
      "id 938764: Солтаганов Федор Ефимович       | Хрисогонов Иван Геннадьевич\n",
      "id 938764: Самолов Михаил Алексеевич       | Двигубская Яна Ивановна\n",
      "id 985851: Павлюкова Наталья Федоровна     | Клебан Игорь Глебович\n",
      "id 985851: Липунова Галина Ринатовна       | Ноткина Альбина Михаиловна\n"
     ]
    }
   ],
   "source": [
    "# Выведем участников в повторяющихся событиях\n",
    "for key, value in df['EventID'].items():\n",
    "    if value in total_events_twice_dict:\n",
    "        print(f\"id {str(value).ljust(6)}: {df['NameOne'][key].ljust(31)} | {df['NameTwo'][key]}\")"
   ]
  },
  {
   "cell_type": "code",
   "execution_count": 102,
   "id": "08359af5",
   "metadata": {},
   "outputs": [],
   "source": [
    "# Словарь повторящихся событий и списком кортежей их участников\n",
    "double_events_participants = {}\n",
    "for key, value in df['EventID'].items():\n",
    "    if value in total_events_twice_dict:\n",
    "        if value not in double_events_participants.keys():\n",
    "            double_events_participants[value] = double_events_participants.get(value, [(df['NameOne'][key], df['NameTwo'][key])])\n",
    "#         print(f\"id {str(value).ljust(6)}: {df['NameOne'][key].ljust(31)} | {df['NameTwo'][key]}\")\n",
    "        elif value in double_events_participants.keys():\n",
    "            double_events_participants[value].append((df['NameOne'][key], df['NameTwo'][key]))"
   ]
  },
  {
   "cell_type": "code",
   "execution_count": 11,
   "id": "de10e196",
   "metadata": {},
   "outputs": [],
   "source": [
    "from flask import Flask, jsonify\n",
    "api = Flask(__name__)\n",
    "@api.route(\"/create/<string:name>\", methods=[\"GET\", \"POST\"])\n",
    "def create_node(name):\n",
    "    query_string = \"\"\"\n",
    "    CREATE (n:Emloyee {NAME:$name})\n",
    "    \"\"\"\n",
    "    map = {\"name\": name}\n",
    "    try:\n",
    "        conn.query(query_string, db='test')\n",
    "        return \"OK\"\n",
    "    except Exception as e:\n",
    "        return (str(e))"
   ]
  }
 ],
 "metadata": {
  "kernelspec": {
   "display_name": "Python 3 (ipykernel)",
   "language": "python",
   "name": "python3"
  },
  "language_info": {
   "codemirror_mode": {
    "name": "ipython",
    "version": 3
   },
   "file_extension": ".py",
   "mimetype": "text/x-python",
   "name": "python",
   "nbconvert_exporter": "python",
   "pygments_lexer": "ipython3",
   "version": "3.9.13"
  }
 },
 "nbformat": 4,
 "nbformat_minor": 5
}
